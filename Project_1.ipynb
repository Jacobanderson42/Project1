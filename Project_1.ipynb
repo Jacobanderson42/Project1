{
  "nbformat": 4,
  "nbformat_minor": 0,
  "metadata": {
    "colab": {
      "name": "Project 1 culm",
      "provenance": [],
      "authorship_tag": "ABX9TyPYntFDrDpVnZTDxYPp8DYC",
      "include_colab_link": true
    },
    "kernelspec": {
      "name": "python3",
      "display_name": "Python 3"
    }
  },
  "cells": [
    {
      "cell_type": "markdown",
      "metadata": {
        "id": "view-in-github",
        "colab_type": "text"
      },
      "source": [
        "<a href=\"https://colab.research.google.com/github/Jacobanderson42/Project1/blob/master/Project_1.ipynb\" target=\"_parent\"><img src=\"https://colab.research.google.com/assets/colab-badge.svg\" alt=\"Open In Colab\"/></a>"
      ]
    },
    {
      "cell_type": "markdown",
      "metadata": {
        "id": "uAcppWcjOKuR",
        "colab_type": "text"
      },
      "source": [
        "Calculate ssp and plot each dive"
      ]
    },
    {
      "cell_type": "code",
      "metadata": {
        "id": "m4LvBZO2OAdK",
        "colab_type": "code",
        "colab": {}
      },
      "source": [
        "def CTDdives(f):\n",
        "  import glob\n",
        "  import pandas as pd\n",
        "  import io\n",
        "  import matplotlib.pyplot as plt\n",
        "  import numpy as np\n",
        "  import requests\n",
        "  import datetime as dt\n",
        "  import matplotlib.dates as md\n",
        "  from datetime import date\n",
        "  import math\n",
        "  import statistics\n",
        "  from google.colab import files\n",
        "  url = 'https://raw.githubusercontent.com/Jacobanderson42/Project1/master/Data_Files/'+f\n",
        "  b = f[:-4]\n",
        "  data = pd.read_csv(url)\n",
        "  temp = data['seawater_temperature']\n",
        "  sal = data['practical_salinity']\n",
        "  depth = data['seawater_pressure']\n",
        "  time = data['time']\n",
        "  cutoff = .95\n",
        "  res = 50\n",
        "  res_list = [] \n",
        "  c = 1449.2+4.6*temp-0.055*temp*temp+0.00029*temp*temp*temp+(1.34-0.01*temp)*(sal-35)+0.016*depth\n",
        "  for i in range(round(len(depth)/res)-1) :      \n",
        "    if depth[res*i] > max(depth)*cutoff and depth[res*(i+1)] < max(depth)*cutoff:\n",
        "      res_list.append(res*i)\n",
        "    elif depth[res*i] < max(depth)*cutoff and depth[res*(i+1)] > max(depth)*cutoff and res_list != []:\n",
        "      res_list.append(res*i)\n",
        "  if (len(res_list) % 2) == 1 :\n",
        "      res_list.pop()\n",
        "  dives = []\n",
        "  dives_ssc = []\n",
        "  fig = plt.figure()\n",
        "  plt.rcParams['xtick.bottom'] = plt.rcParams['xtick.labelbottom'] = False\n",
        "  plt.rcParams['xtick.top'] = plt.rcParams['xtick.labeltop'] = True\n",
        "  for i in range(int((len(res_list))/2)):\n",
        "    x = [depth[res_list[2*i]:res_list[2*i+1]]]\n",
        "    y = [c[res_list[2*i]:res_list[2*i+1]]]\n",
        "    plt.title(b+' Dives')\n",
        "    plt.scatter(y,x, s=.5, label=i+1)\n",
        "    plt.ylabel(\"depth (m)\")\n",
        "    plt.xlabel(\"ssp (m/s)\")\n",
        "    plt.legend(loc=\"lower right\", title=\"Dive\")\n",
        "  plt.gca().invert_yaxis()\n",
        "  plt.show()\n",
        "  return fig"
      ],
      "execution_count": 0,
      "outputs": []
    },
    {
      "cell_type": "markdown",
      "metadata": {
        "id": "TYrCenhSOMwu",
        "colab_type": "text"
      },
      "source": [
        "Plot average ssp"
      ]
    },
    {
      "cell_type": "code",
      "metadata": {
        "id": "846KtLjEONYi",
        "colab_type": "code",
        "colab": {}
      },
      "source": [
        "def CTDave(f):\n",
        "  import glob\n",
        "  import pandas as pd\n",
        "  import io\n",
        "  import matplotlib.pyplot as plt\n",
        "  import numpy as np\n",
        "  import requests\n",
        "  import datetime as dt\n",
        "  import matplotlib.dates as md\n",
        "  from datetime import date\n",
        "  import math\n",
        "  import statistics\n",
        "  from google.colab import files\n",
        "  url = 'https://raw.githubusercontent.com/Jacobanderson42/Project1/master/Data_Files/'+f\n",
        "  b = f[:-4]\n",
        "  data = pd.read_csv(url)\n",
        "  temp = data['seawater_temperature']\n",
        "  sal = data['practical_salinity']\n",
        "  depth = data['seawater_pressure']\n",
        "  time = data['time']\n",
        "  c = 1449.2+4.6*temp-0.055*temp*temp+0.00029*temp*temp*temp+(1.34-0.01*temp)*(sal-35)+0.016*depth\n",
        "  cutoff = .95\n",
        "  res = 50\n",
        "  res_list = [] \n",
        "  for i in range(round(len(depth)/res)-1) :     \n",
        "      if depth[res*i] > max(depth)*cutoff and depth[res*(i+1)] < max(depth)*cutoff:\n",
        "        res_list.append(res*i)\n",
        "      elif depth[res*i] < max(depth)*cutoff and depth[res*(i+1)] > max(depth)*cutoff and res_list != []:\n",
        "        res_list.append(res*i)\n",
        "  if (len(res_list) % 2) == 1 :\n",
        "      res_list.pop()\n",
        "  dives = []\n",
        "  dives_ssc = []\n",
        "  for i in range(int((len(res_list))/2)):\n",
        "    x = [depth[res_list[2*i]:res_list[2*i+1]]]\n",
        "    y = [c[res_list[2*i]:res_list[2*i+1]]]\n",
        "    dives.append(x)\n",
        "    dives_ssc.append(y)\n",
        "  stp = 1\n",
        "  minim = math.floor(min([min(dives[i][0]) for i in range(len(dives))]))\n",
        "  maxim = math.ceil(max([max(dives[i][0]) for i in range(len(dives))]))\n",
        "  depths = np.arange(minim, maxim, stp).tolist()\n",
        "  depcalc = []\n",
        "  sspcalc = []\n",
        "  x = []\n",
        "  y = []\n",
        "  for j in range(len(depths)-1):  \n",
        "    for i in range(len(dives)):\n",
        "      d = np.array(dives[i])\n",
        "      ssp = np.array(dives_ssc[i])\n",
        "      ind = np.where(np.logical_and(d>=depths[j], d<=depths[j+1]))\n",
        "      dep = d[ind]\n",
        "      ssp = ssp[ind]\n",
        "      e = np.mean(dep)\n",
        "      r = np.mean(ssp)\n",
        "      depcalc.append(e)\n",
        "      sspcalc.append(r)\n",
        "    cleaneddep = [x for x in depcalc if (math.isnan(x) == False)]\n",
        "    cleanedssp = [x for x in sspcalc if (math.isnan(x) == False)]\n",
        "    avdepth = np.mean(cleaneddep)\n",
        "    avssp = np.mean(cleanedssp)\n",
        "    x.append(avdepth)\n",
        "    y.append(avssp)\n",
        "    depcalc = []\n",
        "    sspcalc = []\n",
        "  plt.rcParams['xtick.bottom'] = plt.rcParams['xtick.labelbottom'] = False\n",
        "  plt.rcParams['xtick.top'] = plt.rcParams['xtick.labeltop'] = True\n",
        "  fig = plt.figure()\n",
        "  plt.title(b+' Average')\n",
        "  plt.scatter(y,x,s=.6)\n",
        "  plt.ylabel(\"depth (m)\")\n",
        "  plt.xlabel(\"ssp (m/s)\")\n",
        "  plt.gca().invert_yaxis()\n",
        "  plt.show()\n",
        "  return fig"
      ],
      "execution_count": 0,
      "outputs": []
    },
    {
      "cell_type": "markdown",
      "metadata": {
        "id": "zPBWHDz5ON1l",
        "colab_type": "text"
      },
      "source": [
        "Plot ssp for day vs night"
      ]
    },
    {
      "cell_type": "code",
      "metadata": {
        "id": "zK9HG6RiOOYv",
        "colab_type": "code",
        "colab": {}
      },
      "source": [
        "def CTDdaynight(f):\n",
        "  import glob\n",
        "  import pandas as pd\n",
        "  import io\n",
        "  import matplotlib.pyplot as plt\n",
        "  import numpy as np\n",
        "  import requests\n",
        "  import datetime as dt\n",
        "  import matplotlib.dates as md\n",
        "  from datetime import date\n",
        "  import math\n",
        "  import statistics\n",
        "  from google.colab import files\n",
        "  url = 'https://raw.githubusercontent.com/Jacobanderson42/Project1/master/Data_Files/'+f\n",
        "  b = f[:-4]\n",
        "  data = pd.read_csv(url)\n",
        "  temp = data['seawater_temperature']\n",
        "  sal = data['practical_salinity']\n",
        "  depth = data['seawater_pressure']\n",
        "  time = data['time']\n",
        "  c = 1449.2+4.6*temp-0.055*temp*temp+0.00029*temp*temp*temp+(1.34-0.01*temp)*(sal-35)+0.016*depth\n",
        "  timestamps = time-2.208e+9\n",
        "  d=[dt.datetime.fromtimestamp(ts) for ts in timestamps]\n",
        "  dhour = [i.hour for i in d]\n",
        "  dmin = [i.minute for i in d]\n",
        "  date = dt.date.fromtimestamp(timestamps[0])\n",
        "  year = date.year\n",
        "  month = date.month\n",
        "  day = date.day\n",
        "  date = '{year}-{month}-{day}'.format(year=year,month=month,day=day)\n",
        "  r = requests.get('http://api.sunrise-sunset.org/json?lat=46.00000&lng=-145.00000&date={}&formatted=0'.format(date))\n",
        "  dat = r.json()\n",
        "  sunrisehour = int(dat['results']['sunrise'][11:13])\n",
        "  sunrisemin = int(dat['results']['sunrise'][14:16])\n",
        "  sunsethour = int(dat['results']['sunset'][11:13])\n",
        "  sunsetmin = int(dat['results']['sunset'][14:16])\n",
        "  daydepth = []\n",
        "  dayssp = []\n",
        "  nightdepth = []\n",
        "  nightssp = []\n",
        "  for i in range(len(dhour)):\n",
        "    if (dhour[i]>sunrisehour and dmin[i]>sunrisemin) or (dhour[i]<sunsethour and dmin[i]<sunsetmin):\n",
        "      daydepth.append(depth[i])\n",
        "      dayssp.append(c[i])\n",
        "    else:\n",
        "      nightdepth.append(depth[i])\n",
        "      nightssp.append(c[i])\n",
        "  plt.rcParams['xtick.bottom'] = plt.rcParams['xtick.labelbottom'] = False\n",
        "  plt.rcParams['xtick.top'] = plt.rcParams['xtick.labeltop'] = True\n",
        "  fig = plt.figure()\n",
        "  plt.title(b+' Day vs Night')\n",
        "  plt.scatter(dayssp,daydepth,s=.6,label='day')\n",
        "  plt.scatter(nightssp,nightdepth,s=.6,label='night')\n",
        "  plt.ylabel(\"depth (m)\")\n",
        "  plt.xlabel(\"ssp (m/s)\")\n",
        "  plt.legend(loc=\"lower right\", title=\"Dive\")\n",
        "  plt.gca().invert_yaxis()\n",
        "  plt.show()\n",
        "  return fig"
      ],
      "execution_count": 0,
      "outputs": []
    },
    {
      "cell_type": "markdown",
      "metadata": {
        "id": "O-W5w2n4Rj7e",
        "colab_type": "text"
      },
      "source": [
        "Call functions"
      ]
    },
    {
      "cell_type": "code",
      "metadata": {
        "id": "0gP-jgcdRm-r",
        "colab_type": "code",
        "colab": {}
      },
      "source": [
        "f = ['AxialDeep_Summer.csv','AxialDeep_Winter.csv','AxialShallow_Summer.csv','AxialShallow_Winter.csv','OregonOffshoreDeep_Summer.csv','OregonOffshoreDeep_Winter.csv',\n",
        "     'OregonOffshoreShallow_Summer.csv','OregonOffshoreShallow_Winter.csv','OregonShelf_Summer.csv','OregonShelf_Winter.csv','OregonSlopeDeep_Summer.csv',\n",
        "     'OregonSlopeDeep_Winter.csv','OregonSlopeShallow_Summer.csv','OregonSlopeShallow_Winter.csv']\n",
        "for i in f:\n",
        "  CTDdives(i) \n",
        "  CTDave(i)\n",
        "  CTDdaynight(i)"
      ],
      "execution_count": 0,
      "outputs": []
    }
  ]
}